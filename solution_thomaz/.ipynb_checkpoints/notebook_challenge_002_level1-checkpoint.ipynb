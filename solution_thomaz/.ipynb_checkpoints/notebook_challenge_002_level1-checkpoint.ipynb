{
 "cells": [
  {
   "cell_type": "markdown",
   "id": "cc962f74",
   "metadata": {},
   "source": [
    "\n",
    "# Por favor tente resolver o desafio sozinho, não pegue atalhos, tu consegue, é só colocar a cabeça para funcionar."
   ]
  },
  {
   "cell_type": "markdown",
   "id": "481f2029",
   "metadata": {},
   "source": [
    "Execute a célula abaixo apenas uma vez."
   ]
  },
  {
   "cell_type": "code",
   "execution_count": 2,
   "id": "5478638e",
   "metadata": {},
   "outputs": [
    {
     "name": "stderr",
     "output_type": "stream",
     "text": [
      "Cloning into '30-day-challenges-with-sql'...\n"
     ]
    }
   ],
   "source": [
    "%%bash\n",
    "\n",
    "rm -rf /tmp/github; mkdir -p /tmp/github; cd /tmp/github\n",
    "git clone https://github.com/romeritomorais/30-day-challenges-with-sql.git\n",
    "sh /tmp/github/30-day-challenges-with-sql/challenges/utils/install-miniconda.sh > /dev/null 2>&1\n",
    "sh /tmp/github/30-day-challenges-with-sql/challenges/utils/update-miniconda.sh > /dev/null 2>&1"
   ]
  },
  {
   "cell_type": "markdown",
   "id": "5d3a3a36",
   "metadata": {},
   "source": [
    "Nesse desafio super fácil, eu preciso dos registros onde o primeiro caracter seja o \"A\" e o terceiro \"e\" da coluna `FirstName`\n",
    "tu vai criar uma query que traga esse resultado e uma breve explicação da implementação do código e descrever a query abaixo:\n",
    "\n",
    "\n",
    "FirstName |\n",
    "-|\n",
    "Alexandre| \n",
    "\n",
    "Na celula onde tem `%%sql` tu vai escrever a query abaixo dela, exemplo:  \n",
    "```python\n",
    "%%sql\n",
    "select * from Customer\n",
    "```\n",
    "\n",
    "Para resolução tu podes usar a documentação do sqlite:https://www.sqlite.org/docs.html"
   ]
  },
  {
   "cell_type": "code",
   "execution_count": 3,
   "id": "5fc377e9",
   "metadata": {},
   "outputs": [
    {
     "data": {
      "text/plain": [
       "'Connected: @//tmp/github/30-day-challenges-with-sql/challenges/utils/db/database.db'"
      ]
     },
     "execution_count": 3,
     "metadata": {},
     "output_type": "execute_result"
    }
   ],
   "source": [
    "%load_ext sql\n",
    "%sql sqlite://///tmp/github/30-day-challenges-with-sql/challenges/utils/db/database.db"
   ]
  },
  {
   "cell_type": "markdown",
   "id": "138054b1",
   "metadata": {},
   "source": [
    "explicação da implementação do código\n",
    "...."
   ]
  },
  {
   "cell_type": "code",
   "execution_count": 4,
   "id": "9e241d83",
   "metadata": {},
   "outputs": [
    {
     "name": "stdout",
     "output_type": "stream",
     "text": [
      " * sqlite://///tmp/github/30-day-challenges-with-sql/challenges/utils/db/database.db\n",
      "Done.\n"
     ]
    },
    {
     "data": {
      "text/html": [
       "<table>\n",
       "    <thead>\n",
       "        <tr>\n",
       "            <th>FirstName</th>\n",
       "        </tr>\n",
       "    </thead>\n",
       "    <tbody>\n",
       "        <tr>\n",
       "            <td>Alexandre</td>\n",
       "        </tr>\n",
       "    </tbody>\n",
       "</table>"
      ],
      "text/plain": [
       "[('Alexandre',)]"
      ]
     },
     "execution_count": 4,
     "metadata": {},
     "output_type": "execute_result"
    }
   ],
   "source": [
    "%%sql\n",
    "SELECT FirstName\n",
    "  FROM Customer\n",
    " WHERE FirstName LIKE 'A_e%'"
   ]
  },
  {
   "cell_type": "code",
   "execution_count": null,
   "id": "5b434a18-2d89-4051-b285-062ca0228669",
   "metadata": {},
   "outputs": [],
   "source": []
  }
 ],
 "metadata": {
  "kernelspec": {
   "display_name": "Python 3",
   "language": "python",
   "name": "python3"
  },
  "language_info": {
   "codemirror_mode": {
    "name": "ipython",
    "version": 3
   },
   "file_extension": ".py",
   "mimetype": "text/x-python",
   "name": "python",
   "nbconvert_exporter": "python",
   "pygments_lexer": "ipython3",
   "version": "3.8.8"
  }
 },
 "nbformat": 4,
 "nbformat_minor": 5
}
