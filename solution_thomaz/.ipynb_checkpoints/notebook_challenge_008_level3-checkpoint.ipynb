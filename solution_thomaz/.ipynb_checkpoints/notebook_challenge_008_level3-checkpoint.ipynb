{
 "cells": [
  {
   "cell_type": "markdown",
   "id": "160bbfb2",
   "metadata": {},
   "source": [
    "# Por favor tente resolver o desafio sozinho, não pegue atalhos, tu consegue, é só colocar a cabeça para funcionar."
   ]
  },
  {
   "cell_type": "markdown",
   "id": "e0e85531",
   "metadata": {},
   "source": [
    "Execute a célula abaixo apenas uma vez."
   ]
  },
  {
   "cell_type": "code",
   "execution_count": null,
   "id": "7d725090",
   "metadata": {},
   "outputs": [],
   "source": [
    "%%bash\n",
    "\n",
    "rm -rf /tmp/github; mkdir -p /tmp/github; cd /tmp/github\n",
    "git clone https://github.com/romeritomorais/30-day-challenges-with-sql.git\n",
    "sh /tmp/github/30-day-challenges-with-sql/challenges/utils/install-miniconda.sh > /dev/null 2>&1\n",
    "sh /tmp/github/30-day-challenges-with-sql/challenges/utils/update-miniconda.sh > /dev/null 2>&1"
   ]
  },
  {
   "cell_type": "markdown",
   "id": "467f1c4a",
   "metadata": {},
   "source": [
    "Nesse desafio eu preciso que voce agrupe os dados da tabela `Invoice` e exiba apenas os valores maiores por `Customer.CustomerId` apenas do Brazil utilizando funções como: `ROW_NUMBER e PARTITION`\n",
    "\n",
    "Critério:  \n",
    "que voce escreva essa transformação em apenas uma query. Boa sorte.\n",
    "\n",
    "\n",
    "Resultado esperada:  \n",
    "\n",
    "|CustomerId|FirstName|LastName |country|total\n",
    "|----------:|--------:|--------:|------:|----\n",
    "|         1|Luís     |Gonçalves|Brazil |13.86\n",
    "|        10|Eduardo  |Martins  |Brazil |13.86\n",
    "|        11|Alexandre|Rocha    |Brazil |13.86\n",
    "|        12|Roberto  |Almeida  |Brazil |13.86\n",
    "|        13|Fernanda |Ramos    |Brazil |13.86\n",
    "\n",
    "Na celula onde tem `%%sql` tu vai escrever a query abaixo dela, exemplo:  \n",
    "```python\n",
    "%%sql\n",
    "select * from Customer\n",
    "```\n",
    "\n",
    "Para resolução tu podes usar a documentação do sqlite:https://www.sqlite.org/docs.html"
   ]
  },
  {
   "cell_type": "code",
   "execution_count": 1,
   "id": "2b36ffcd-323a-452a-a6a1-433be0285405",
   "metadata": {},
   "outputs": [
    {
     "data": {
      "text/plain": [
       "'Connected: @//tmp/github/30-day-challenges-with-sql/challenges/utils/db/database.db'"
      ]
     },
     "execution_count": 1,
     "metadata": {},
     "output_type": "execute_result"
    }
   ],
   "source": [
    "%load_ext sql\n",
    "%sql sqlite://///tmp/github/30-day-challenges-with-sql/challenges/utils/db/database.db"
   ]
  },
  {
   "cell_type": "markdown",
   "id": "6a4db697-4882-45e2-94ed-de2c61d5856b",
   "metadata": {},
   "source": [
    "# Solution Challenge 8 - Thomaz Antonio Rossito Neto"
   ]
  },
  {
   "cell_type": "code",
   "execution_count": 63,
   "id": "ed292835-efcd-4c35-9634-3e7222154032",
   "metadata": {},
   "outputs": [
    {
     "name": "stdout",
     "output_type": "stream",
     "text": [
      " * sqlite://///tmp/github/30-day-challenges-with-sql/challenges/utils/db/database.db\n",
      "Done.\n"
     ]
    },
    {
     "data": {
      "text/html": [
       "<table>\n",
       "    <thead>\n",
       "        <tr>\n",
       "            <th>CustomerId</th>\n",
       "            <th>FirstName</th>\n",
       "            <th>LastName</th>\n",
       "            <th>country</th>\n",
       "            <th>total</th>\n",
       "        </tr>\n",
       "    </thead>\n",
       "    <tbody>\n",
       "        <tr>\n",
       "            <td>1</td>\n",
       "            <td>Luís</td>\n",
       "            <td>Gonçalves</td>\n",
       "            <td>Brazil</td>\n",
       "            <td>13.86</td>\n",
       "        </tr>\n",
       "        <tr>\n",
       "            <td>10</td>\n",
       "            <td>Eduardo</td>\n",
       "            <td>Martins</td>\n",
       "            <td>Brazil</td>\n",
       "            <td>13.86</td>\n",
       "        </tr>\n",
       "        <tr>\n",
       "            <td>11</td>\n",
       "            <td>Alexandre</td>\n",
       "            <td>Rocha</td>\n",
       "            <td>Brazil</td>\n",
       "            <td>13.86</td>\n",
       "        </tr>\n",
       "        <tr>\n",
       "            <td>12</td>\n",
       "            <td>Roberto</td>\n",
       "            <td>Almeida</td>\n",
       "            <td>Brazil</td>\n",
       "            <td>13.86</td>\n",
       "        </tr>\n",
       "        <tr>\n",
       "            <td>13</td>\n",
       "            <td>Fernanda</td>\n",
       "            <td>Ramos</td>\n",
       "            <td>Brazil</td>\n",
       "            <td>13.86</td>\n",
       "        </tr>\n",
       "    </tbody>\n",
       "</table>"
      ],
      "text/plain": [
       "[(1, 'Luís', 'Gonçalves', 'Brazil', 13.86),\n",
       " (10, 'Eduardo', 'Martins', 'Brazil', 13.86),\n",
       " (11, 'Alexandre', 'Rocha', 'Brazil', 13.86),\n",
       " (12, 'Roberto', 'Almeida', 'Brazil', 13.86),\n",
       " (13, 'Fernanda', 'Ramos', 'Brazil', 13.86)]"
      ]
     },
     "execution_count": 63,
     "metadata": {},
     "output_type": "execute_result"
    }
   ],
   "source": [
    "%%sql\n",
    "select CustomerId,\n",
    "       FirstName,\n",
    "       LastName,\n",
    "       country,\n",
    "       total  \n",
    "  from (\n",
    "        select ROW_NUMBER() OVER(PARTITION BY country ORDER BY total DESC) AS Row,   \n",
    "               iv.CustomerId as CustomerId,\n",
    "               ct.FirstName  as FirstName,\n",
    "               ct.LastName   as LastName,\n",
    "               country       as country,\n",
    "              round(total,2) as total        \n",
    "          from invoice as iv\n",
    "         inner join customer as ct\n",
    "            on iv.CustomerId = ct.CustomerId\n",
    "         where country = 'Brazil'    \n",
    "        )  limit 5"
   ]
  }
 ],
 "metadata": {
  "kernelspec": {
   "display_name": "Python 3",
   "language": "python",
   "name": "python3"
  },
  "language_info": {
   "codemirror_mode": {
    "name": "ipython",
    "version": 3
   },
   "file_extension": ".py",
   "mimetype": "text/x-python",
   "name": "python",
   "nbconvert_exporter": "python",
   "pygments_lexer": "ipython3",
   "version": "3.8.8"
  }
 },
 "nbformat": 4,
 "nbformat_minor": 5
}
