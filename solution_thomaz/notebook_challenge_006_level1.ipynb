{
 "cells": [
  {
   "cell_type": "markdown",
   "id": "160bbfb2",
   "metadata": {},
   "source": [
    "# Por favor tente resolver o desafio sozinho, não pegue atalhos, tu consegue, é só colocar a cabeça para funcionar."
   ]
  },
  {
   "cell_type": "markdown",
   "id": "e0e85531",
   "metadata": {},
   "source": [
    "Execute a célula abaixo apenas uma vez."
   ]
  },
  {
   "cell_type": "code",
   "execution_count": 4,
   "id": "7d725090",
   "metadata": {},
   "outputs": [
    {
     "name": "stderr",
     "output_type": "stream",
     "text": [
      "Cloning into '30-day-challenges-with-sql'...\n"
     ]
    }
   ],
   "source": [
    "%%bash\n",
    "\n",
    "rm -rf /tmp/github; mkdir -p /tmp/github; cd /tmp/github\n",
    "git clone https://github.com/romeritomorais/30-day-challenges-with-sql.git\n",
    "sh /tmp/github/30-day-challenges-with-sql/challenges/utils/install-miniconda.sh > /dev/null 2>&1\n",
    "sh /tmp/github/30-day-challenges-with-sql/challenges/utils/update-miniconda.sh > /dev/null 2>&1"
   ]
  },
  {
   "cell_type": "markdown",
   "id": "467f1c4a",
   "metadata": {},
   "source": [
    "Nesse desafio eu preciso da idade das pessoas da tabela `Employee` use a coluna BithDate para a transformação.\n",
    "\n",
    "Critério:  \n",
    "que voce escreva essa transformação em apenas uma query. Boa sorte.\n",
    "\n",
    "\n",
    "resultado esperado:  \n",
    "\n",
    "|LastName|ano_de_nascimento|idade\n",
    "|--------:|----------------:|-----\n",
    "|Adams   |1962             |   60\n",
    "|Edwards |1958             |   64\n",
    "|Peacock |1973             |   49\n",
    "|Park    |1947             |   75\n",
    "|Johnson |1965             |   57\n",
    "|Mitchell|1973             |   49\n",
    "|King    |1970             |   52\n",
    "|Callahan|1968             |   54\n",
    "\n",
    "Na celula onde tem `%%sql` tu vai escrever a query abaixo dela, exemplo:  \n",
    "```python\n",
    "%%sql\n",
    "select * from Customer\n",
    "```\n",
    "\n",
    "Para resolução tu podes usar a documentação do sqlite:https://www.sqlite.org/docs.html"
   ]
  },
  {
   "cell_type": "code",
   "execution_count": 5,
   "id": "2b36ffcd-323a-452a-a6a1-433be0285405",
   "metadata": {},
   "outputs": [
    {
     "name": "stdout",
     "output_type": "stream",
     "text": [
      "The sql extension is already loaded. To reload it, use:\n",
      "  %reload_ext sql\n"
     ]
    },
    {
     "data": {
      "text/plain": [
       "'Connected: @//tmp/github/30-day-challenges-with-sql/challenges/utils/db/database.db'"
      ]
     },
     "execution_count": 5,
     "metadata": {},
     "output_type": "execute_result"
    }
   ],
   "source": [
    "%load_ext sql\n",
    "%sql sqlite://///tmp/github/30-day-challenges-with-sql/challenges/utils/db/database.db"
   ]
  },
  {
   "cell_type": "markdown",
   "id": "9e47e013-ebf5-4f7c-9b13-13fa3aa08d5b",
   "metadata": {},
   "source": [
    "# Solution Challenge 6 - Thomaz Antonio Rossito Neto"
   ]
  },
  {
   "cell_type": "code",
   "execution_count": 9,
   "id": "a45f33f7-5a0d-4a5c-9dda-7a425da514b5",
   "metadata": {},
   "outputs": [
    {
     "name": "stdout",
     "output_type": "stream",
     "text": [
      " * sqlite://///tmp/github/30-day-challenges-with-sql/challenges/utils/db/database.db\n",
      "Done.\n"
     ]
    },
    {
     "data": {
      "text/html": [
       "<table>\n",
       "    <thead>\n",
       "        <tr>\n",
       "            <th>LastName</th>\n",
       "            <th>ano_de_nascimento</th>\n",
       "            <th>idade</th>\n",
       "        </tr>\n",
       "    </thead>\n",
       "    <tbody>\n",
       "        <tr>\n",
       "            <td>Adams</td>\n",
       "            <td>1962</td>\n",
       "            <td>60</td>\n",
       "        </tr>\n",
       "        <tr>\n",
       "            <td>Edwards</td>\n",
       "            <td>1958</td>\n",
       "            <td>64</td>\n",
       "        </tr>\n",
       "        <tr>\n",
       "            <td>Peacock</td>\n",
       "            <td>1973</td>\n",
       "            <td>49</td>\n",
       "        </tr>\n",
       "        <tr>\n",
       "            <td>Park</td>\n",
       "            <td>1947</td>\n",
       "            <td>75</td>\n",
       "        </tr>\n",
       "        <tr>\n",
       "            <td>Johnson</td>\n",
       "            <td>1965</td>\n",
       "            <td>57</td>\n",
       "        </tr>\n",
       "        <tr>\n",
       "            <td>Mitchell</td>\n",
       "            <td>1973</td>\n",
       "            <td>49</td>\n",
       "        </tr>\n",
       "        <tr>\n",
       "            <td>King</td>\n",
       "            <td>1970</td>\n",
       "            <td>52</td>\n",
       "        </tr>\n",
       "        <tr>\n",
       "            <td>Callahan</td>\n",
       "            <td>1968</td>\n",
       "            <td>54</td>\n",
       "        </tr>\n",
       "    </tbody>\n",
       "</table>"
      ],
      "text/plain": [
       "[('Adams', '1962', 60),\n",
       " ('Edwards', '1958', 64),\n",
       " ('Peacock', '1973', 49),\n",
       " ('Park', '1947', 75),\n",
       " ('Johnson', '1965', 57),\n",
       " ('Mitchell', '1973', 49),\n",
       " ('King', '1970', 52),\n",
       " ('Callahan', '1968', 54)]"
      ]
     },
     "execution_count": 9,
     "metadata": {},
     "output_type": "execute_result"
    }
   ],
   "source": [
    "%%sql\n",
    "select LastName,\n",
    "       substr(BirthDate,1,4)             AS ano_de_nascimento,\n",
    "       CAST(substr(date(),1,4) AS INT) - CAST(substr(BirthDate,1,4) AS INT) AS idade\n",
    "  from Employee"
   ]
  },
  {
   "cell_type": "code",
   "execution_count": null,
   "id": "ed43ed4a-d585-45d1-8ce9-f27c0b105077",
   "metadata": {},
   "outputs": [],
   "source": []
  }
 ],
 "metadata": {
  "kernelspec": {
   "display_name": "Python 3",
   "language": "python",
   "name": "python3"
  },
  "language_info": {
   "codemirror_mode": {
    "name": "ipython",
    "version": 3
   },
   "file_extension": ".py",
   "mimetype": "text/x-python",
   "name": "python",
   "nbconvert_exporter": "python",
   "pygments_lexer": "ipython3",
   "version": "3.8.8"
  }
 },
 "nbformat": 4,
 "nbformat_minor": 5
}
