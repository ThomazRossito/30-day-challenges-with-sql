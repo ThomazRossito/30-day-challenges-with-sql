{
 "cells": [
  {
   "cell_type": "markdown",
   "id": "bc8a16a6",
   "metadata": {},
   "source": [
    "\n",
    "# Por favor tente resolver o desafio sozinho, não pegue atalhos, tu consegue, é só colocar a cabeça para funcionar."
   ]
  },
  {
   "cell_type": "markdown",
   "id": "4ffaa676",
   "metadata": {},
   "source": [
    "Execute a célula abaixo apenas uma vez."
   ]
  },
  {
   "cell_type": "code",
   "execution_count": null,
   "id": "b2be889b",
   "metadata": {},
   "outputs": [],
   "source": [
    "%%bash\n",
    "\n",
    "rm -rf /tmp/github; mkdir -p /tmp/github; cd /tmp/github\n",
    "git clone https://github.com/romeritomorais/30-day-challenges-with-sql.git\n",
    "sh /tmp/github/30-day-challenges-with-sql/challenges/utils/install-miniconda.sh > /dev/null 2>&1\n",
    "sh /tmp/github/30-day-challenges-with-sql/challenges/utils/update-miniconda.sh > /dev/null 2>&1"
   ]
  },
  {
   "cell_type": "markdown",
   "id": "7b62dd5e",
   "metadata": {},
   "source": [
    "Nesse primeiro desafio super fácil, eu preciso apenas dos registros do campo Email da tabela Customers onde o domínio seja da `apple`,\n",
    "tu vai criar uma query que traga esse resultado e uma breve explicação da implementação do código e descrever a query abaixo:\n",
    "\n",
    "\n",
    "Resultado esperado:  \n",
    "\n",
    "Email |\n",
    "-|\n",
    "astrid.gruber@apple.at| \n",
    "daan_peeters@apple.be| \n",
    "tgoyer@apple.com| \n",
    "isabelle_mercier@apple.fr| \n",
    "terhi.hamalainen@apple.fi| \n",
    "ladislav_kovacs@apple.hu| \n",
    "hughoreilly@apple.ie| \n",
    "\n",
    "Na celula onde tem `%%sql` tu vai escrever a query abaixo dela, exemplo:  \n",
    "```python\n",
    "%%sql\n",
    "select * from Customer\n",
    "```\n",
    "\n",
    "Para resolução tu podes usar a documentação do sqlite:https://www.sqlite.org/docs.html"
   ]
  },
  {
   "cell_type": "code",
   "execution_count": 1,
   "id": "78b7cbdc",
   "metadata": {},
   "outputs": [
    {
     "data": {
      "text/plain": [
       "'Connected: @//tmp/github/30-day-challenges-with-sql/challenges/utils/db/database.db'"
      ]
     },
     "execution_count": 1,
     "metadata": {},
     "output_type": "execute_result"
    }
   ],
   "source": [
    "%load_ext sql\n",
    "%sql sqlite://///tmp/github/30-day-challenges-with-sql/challenges/utils/db/database.db"
   ]
  },
  {
   "cell_type": "markdown",
   "id": "be967233",
   "metadata": {},
   "source": [
    "explicação da implementação do código\n",
    "...."
   ]
  },
  {
   "cell_type": "markdown",
   "id": "e717417e-c2ab-477d-80ad-de52c6613e69",
   "metadata": {},
   "source": [
    "# Solution Challenge 1 - Thomaz Antonio Rossito Neto"
   ]
  },
  {
   "cell_type": "code",
   "execution_count": 2,
   "id": "4aba4071",
   "metadata": {},
   "outputs": [
    {
     "name": "stdout",
     "output_type": "stream",
     "text": [
      " * sqlite://///tmp/github/30-day-challenges-with-sql/challenges/utils/db/database.db\n",
      "Done.\n"
     ]
    },
    {
     "data": {
      "text/html": [
       "<table>\n",
       "    <thead>\n",
       "        <tr>\n",
       "            <th>Email</th>\n",
       "        </tr>\n",
       "    </thead>\n",
       "    <tbody>\n",
       "        <tr>\n",
       "            <td>astrid.gruber@apple.at</td>\n",
       "        </tr>\n",
       "        <tr>\n",
       "            <td>daan_peeters@apple.be</td>\n",
       "        </tr>\n",
       "        <tr>\n",
       "            <td>tgoyer@apple.com</td>\n",
       "        </tr>\n",
       "        <tr>\n",
       "            <td>isabelle_mercier@apple.fr</td>\n",
       "        </tr>\n",
       "        <tr>\n",
       "            <td>terhi.hamalainen@apple.fi</td>\n",
       "        </tr>\n",
       "        <tr>\n",
       "            <td>ladislav_kovacs@apple.hu</td>\n",
       "        </tr>\n",
       "        <tr>\n",
       "            <td>hughoreilly@apple.ie</td>\n",
       "        </tr>\n",
       "    </tbody>\n",
       "</table>"
      ],
      "text/plain": [
       "[('astrid.gruber@apple.at',),\n",
       " ('daan_peeters@apple.be',),\n",
       " ('tgoyer@apple.com',),\n",
       " ('isabelle_mercier@apple.fr',),\n",
       " ('terhi.hamalainen@apple.fi',),\n",
       " ('ladislav_kovacs@apple.hu',),\n",
       " ('hughoreilly@apple.ie',)]"
      ]
     },
     "execution_count": 2,
     "metadata": {},
     "output_type": "execute_result"
    }
   ],
   "source": [
    "%%sql\n",
    "SELECT Email\n",
    "  FROM Customer\n",
    " WHERE Email LIKE (\"%@apple%\");"
   ]
  },
  {
   "cell_type": "code",
   "execution_count": null,
   "id": "cd1860c9-f5a6-4d06-8c9e-1eebed81a0c5",
   "metadata": {},
   "outputs": [],
   "source": []
  }
 ],
 "metadata": {
  "kernelspec": {
   "display_name": "Python 3",
   "language": "python",
   "name": "python3"
  },
  "language_info": {
   "codemirror_mode": {
    "name": "ipython",
    "version": 3
   },
   "file_extension": ".py",
   "mimetype": "text/x-python",
   "name": "python",
   "nbconvert_exporter": "python",
   "pygments_lexer": "ipython3",
   "version": "3.8.8"
  }
 },
 "nbformat": 4,
 "nbformat_minor": 5
}
